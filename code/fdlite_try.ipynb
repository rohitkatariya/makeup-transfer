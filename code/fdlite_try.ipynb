{
 "cells": [
  {
   "cell_type": "code",
   "execution_count": 1,
   "id": "clinical-ranch",
   "metadata": {},
   "outputs": [],
   "source": [
    "from fdlite import FaceDetection\n",
    "from fdlite.render import Colors, detections_to_render_data, render_to_image \n",
    "from PIL import Image"
   ]
  },
  {
   "cell_type": "code",
   "execution_count": 3,
   "id": "technological-worthy",
   "metadata": {},
   "outputs": [],
   "source": [
    "image = Image.open('./../data/input/color_ja.jpg')\n",
    "detect_faces = FaceDetection()\n",
    "faces = detect_faces(image)\n",
    "if len(faces) == 0:\n",
    "    print('no faces detected :(')\n",
    "else:\n",
    "    render_data = detections_to_render_data(faces, bounds_color=Colors.GREEN)\n",
    "    render_to_image(render_data, image).show()"
   ]
  },
  {
   "cell_type": "code",
   "execution_count": 6,
   "id": "accomplished-gambling",
   "metadata": {},
   "outputs": [],
   "source": [
    "from fdlite import FaceDetection, FaceLandmark, face_detection_to_roi\n",
    "from fdlite.render import Colors, landmarks_to_render_data, render_to_image\n",
    "from PIL import Image\n",
    "\n",
    "# load detection models\n",
    "detect_faces = FaceDetection()\n",
    "detect_face_landmarks = FaceLandmark()\n",
    "\n",
    "# open image\n",
    "img = Image.open('../data/input/color_ja.jpg')\n",
    "# detect face\n",
    "face_detections = detect_faces(img)\n",
    "if len(face_detections) > 0:\n",
    "    # get ROI for the first face found\n",
    "    face_roi = face_detection_to_roi(face_detections[0], img.size)\n",
    "    # detect face landmarks\n",
    "    face_landmarks = detect_face_landmarks(img, face_roi)\n",
    "    # convert detections to render data\n",
    "    render_data = landmarks_to_render_data(\n",
    "        face_landmarks, [], landmark_color=Colors.PINK, thickness=3)\n",
    "    # render and display landmarks (points only)\n",
    "    render_to_image(render_data, img).show()\n",
    "else:\n",
    "    print('no face detected :(') "
   ]
  },
  {
   "cell_type": "code",
   "execution_count": null,
   "id": "returning-quebec",
   "metadata": {},
   "outputs": [],
   "source": []
  },
  {
   "cell_type": "code",
   "execution_count": null,
   "id": "solved-graphics",
   "metadata": {},
   "outputs": [],
   "source": []
  }
 ],
 "metadata": {
  "kernelspec": {
   "display_name": "Python 3",
   "language": "python",
   "name": "python3"
  },
  "language_info": {
   "codemirror_mode": {
    "name": "ipython",
    "version": 3
   },
   "file_extension": ".py",
   "mimetype": "text/x-python",
   "name": "python",
   "nbconvert_exporter": "python",
   "pygments_lexer": "ipython3",
   "version": "3.8.3"
  }
 },
 "nbformat": 4,
 "nbformat_minor": 5
}
