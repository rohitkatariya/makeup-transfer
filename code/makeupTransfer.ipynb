{
 "cells": [
  {
   "cell_type": "code",
   "execution_count": 1,
   "id": "favorite-advisory",
   "metadata": {},
   "outputs": [],
   "source": [
    "import dlib\n",
    "import cv2\n",
    "import os\n",
    "from LandmarkGenerator import LandmarkGenerator\n",
    "import Triangulation\n",
    "import config\n",
    "import numpy as np\n",
    "\n",
    "from matplotlib import pyplot as plt\n",
    "from skimage.io import imread, imsave\n",
    "import random\n",
    "from imp import reload\n"
   ]
  },
  {
   "cell_type": "code",
   "execution_count": 130,
   "id": "surface-ordinary",
   "metadata": {},
   "outputs": [
    {
     "name": "stdout",
     "output_type": "stream",
     "text": [
      "[(0, 'black-silhouette-cartoon-front-face-man-with-hairstyle-J2TTMF.jpg'), (1, 'example.jpg'), (2, 'h.jpg'), (3, 'mom2.jpg'), (4, 'base.jpg'), (5, 'color_ja.jpg'), (6, 'openmouth.jpg'), (7, 'opm.png'), (8, 'on.jpg'), (9, 'dear-in-headlights-fright-face-woman-driving-car-wide-open-mouth-eyes-J6EFA0.jpg'), (10, 'om.jpg'), (11, 'man.jpg'), (12, 'm.jpg')]\n"
     ]
    }
   ],
   "source": [
    "list_images = os.listdir(config.input_dir)\n",
    "print(list(enumerate(list_images)))\n",
    "# list_images = [list_images[4]]"
   ]
  },
  {
   "cell_type": "code",
   "execution_count": 131,
   "id": "simple-concrete",
   "metadata": {},
   "outputs": [],
   "source": [
    "list_images = [list_images[4]]"
   ]
  },
  {
   "cell_type": "code",
   "execution_count": 132,
   "id": "dependent-drill",
   "metadata": {},
   "outputs": [],
   "source": [
    "predictor_path = './../data/shape_predictor_81_face_landmarks.dat'\n",
    "shape_predictor = dlib.shape_predictor(predictor_path)"
   ]
  },
  {
   "cell_type": "code",
   "execution_count": 133,
   "id": "tested-efficiency",
   "metadata": {},
   "outputs": [
    {
     "data": {
      "text/plain": [
       "<module 'Triangulation' from '/home/rohit/Desktop/iit/digitalImageAnalysis/assignments/assignment2/code/Triangulation.py'>"
      ]
     },
     "execution_count": 133,
     "metadata": {},
     "output_type": "execute_result"
    }
   ],
   "source": [
    "reload(Triangulation)"
   ]
  },
  {
   "cell_type": "code",
   "execution_count": 134,
   "id": "concerned-sheffield",
   "metadata": {},
   "outputs": [],
   "source": [
    "input_image_path = random.choice(list_images)"
   ]
  },
  {
   "cell_type": "code",
   "execution_count": 135,
   "id": "prompt-delta",
   "metadata": {},
   "outputs": [],
   "source": [
    "src_landmarkGenerator = LandmarkGenerator(shape_predictor,config.input_dir+\"example.jpg\")\n",
    "dest_landmarkGenerator = LandmarkGenerator(shape_predictor,config.input_dir+input_image_path)"
   ]
  },
  {
   "cell_type": "code",
   "execution_count": 183,
   "id": "automated-montana",
   "metadata": {},
   "outputs": [],
   "source": [
    "import Warping\n",
    "reload(Warping)\n",
    "rd_idx=0"
   ]
  },
  {
   "cell_type": "code",
   "execution_count": 184,
   "id": "standing-range",
   "metadata": {},
   "outputs": [],
   "source": [
    "def resize_img(image):\n",
    "    stretch_near = cv2.resize(image, (540, int(540. * image.shape[1]/image.shape[0])),\n",
    "                   interpolation = cv2.INTER_NEAREST)\n",
    "    return stretch_near"
   ]
  },
  {
   "cell_type": "code",
   "execution_count": 185,
   "id": "recent-brave",
   "metadata": {},
   "outputs": [
    {
     "name": "stdout",
     "output_type": "stream",
     "text": [
      "(78, 35) (300, 0, 0)\n",
      "(78, 35) (0, 0)\n"
     ]
    },
    {
     "ename": "error",
     "evalue": "OpenCV(4.5.1) /tmp/pip-req-build-ms668fyv/opencv/modules/core/src/arithm.cpp:232: error: (-209:Sizes of input arguments do not match) The operation is neither 'array op array' (where arrays have the same size and type), nor 'array op scalar', nor 'scalar op array' in function 'binary_op'\n",
     "output_type": "error",
     "traceback": [
      "\u001b[0;31m---------------------------------------------------------------------------\u001b[0m",
      "\u001b[0;31merror\u001b[0m                                     Traceback (most recent call last)",
      "\u001b[0;32m<ipython-input-185-1d31a7f341f5>\u001b[0m in \u001b[0;36m<module>\u001b[0;34m\u001b[0m\n\u001b[1;32m      1\u001b[0m \u001b[0mwarp_obj\u001b[0m \u001b[0;34m=\u001b[0m \u001b[0mWarping\u001b[0m\u001b[0;34m.\u001b[0m\u001b[0mWarping\u001b[0m\u001b[0;34m(\u001b[0m\u001b[0msrc_landmarkGenerator\u001b[0m\u001b[0;34m,\u001b[0m\u001b[0mdest_landmarkGenerator\u001b[0m\u001b[0;34m)\u001b[0m\u001b[0;34m\u001b[0m\u001b[0;34m\u001b[0m\u001b[0m\n\u001b[0;32m----> 2\u001b[0;31m \u001b[0mwarp_obj\u001b[0m\u001b[0;34m.\u001b[0m\u001b[0mwarp_image\u001b[0m\u001b[0;34m(\u001b[0m\u001b[0;34m)\u001b[0m\u001b[0;34m\u001b[0m\u001b[0;34m\u001b[0m\u001b[0m\n\u001b[0m\u001b[1;32m      3\u001b[0m \u001b[0;31m# plt.imshow(warp_obj.list_warped_images[0])\u001b[0m\u001b[0;34m\u001b[0m\u001b[0;34m\u001b[0m\u001b[0;34m\u001b[0m\u001b[0m\n\u001b[1;32m      4\u001b[0m \u001b[0;31m# plt.imshow(warp_obj.list_warped_images[1])\u001b[0m\u001b[0;34m\u001b[0m\u001b[0;34m\u001b[0m\u001b[0;34m\u001b[0m\u001b[0m\n\u001b[1;32m      5\u001b[0m \u001b[0;34m\u001b[0m\u001b[0m\n",
      "\u001b[0;32m~/Desktop/iit/digitalImageAnalysis/assignments/assignment2/code/Warping.py\u001b[0m in \u001b[0;36mwarp_image\u001b[0;34m(self)\u001b[0m\n\u001b[1;32m     32\u001b[0m                 \u001b[0;32mfor\u001b[0m \u001b[0mi\u001b[0m \u001b[0;32min\u001b[0m \u001b[0mrange\u001b[0m\u001b[0;34m(\u001b[0m\u001b[0;36m3\u001b[0m\u001b[0;34m)\u001b[0m\u001b[0;34m:\u001b[0m\u001b[0;34m\u001b[0m\u001b[0;34m\u001b[0m\u001b[0m\n\u001b[1;32m     33\u001b[0m                     \u001b[0mprint\u001b[0m\u001b[0;34m(\u001b[0m\u001b[0mcropping_mask\u001b[0m\u001b[0;34m.\u001b[0m\u001b[0mshape\u001b[0m\u001b[0;34m,\u001b[0m\u001b[0mthis_rect\u001b[0m\u001b[0;34m[\u001b[0m\u001b[0mi\u001b[0m\u001b[0;34m]\u001b[0m\u001b[0;34m.\u001b[0m\u001b[0mshape\u001b[0m\u001b[0;34m)\u001b[0m\u001b[0;34m\u001b[0m\u001b[0;34m\u001b[0m\u001b[0m\n\u001b[0;32m---> 34\u001b[0;31m                     \u001b[0mcropped_triangle\u001b[0m\u001b[0;34m[\u001b[0m\u001b[0mi\u001b[0m\u001b[0;34m]\u001b[0m \u001b[0;34m=\u001b[0m \u001b[0mcv2\u001b[0m\u001b[0;34m.\u001b[0m\u001b[0mbitwise_and\u001b[0m\u001b[0;34m(\u001b[0m\u001b[0mcropping_mask\u001b[0m\u001b[0;34m,\u001b[0m\u001b[0mthis_rect\u001b[0m\u001b[0;34m[\u001b[0m\u001b[0mi\u001b[0m\u001b[0;34m]\u001b[0m\u001b[0;34m)\u001b[0m\u001b[0;34m\u001b[0m\u001b[0;34m\u001b[0m\u001b[0m\n\u001b[0m\u001b[1;32m     35\u001b[0m                 \u001b[0mthis_bounding_rect_list\u001b[0m\u001b[0;34m.\u001b[0m\u001b[0mappend\u001b[0m\u001b[0;34m(\u001b[0m\u001b[0mcropped_triangle\u001b[0m\u001b[0;34m)\u001b[0m\u001b[0;34m\u001b[0m\u001b[0;34m\u001b[0m\u001b[0m\n\u001b[1;32m     36\u001b[0m                 \u001b[0mcv2\u001b[0m\u001b[0;34m.\u001b[0m\u001b[0mrectangle\u001b[0m\u001b[0;34m(\u001b[0m\u001b[0mlist_warped_images\u001b[0m\u001b[0;34m[\u001b[0m\u001b[0midx_image\u001b[0m\u001b[0;34m]\u001b[0m\u001b[0;34m,\u001b[0m\u001b[0;34m(\u001b[0m\u001b[0mx\u001b[0m\u001b[0;34m,\u001b[0m\u001b[0my\u001b[0m\u001b[0;34m)\u001b[0m\u001b[0;34m,\u001b[0m\u001b[0;34m(\u001b[0m\u001b[0mx\u001b[0m\u001b[0;34m+\u001b[0m\u001b[0mw\u001b[0m \u001b[0;34m,\u001b[0m \u001b[0my\u001b[0m\u001b[0;34m+\u001b[0m\u001b[0mh\u001b[0m\u001b[0;34m)\u001b[0m \u001b[0;34m,\u001b[0m \u001b[0mthis_landmark_obj\u001b[0m\u001b[0;34m.\u001b[0m\u001b[0mcolor_idx\u001b[0m\u001b[0;34m[\u001b[0m\u001b[0;36m6\u001b[0m\u001b[0;34m]\u001b[0m\u001b[0;34m,\u001b[0m \u001b[0;36m3\u001b[0m \u001b[0;34m)\u001b[0m\u001b[0;34m\u001b[0m\u001b[0;34m\u001b[0m\u001b[0m\n",
      "\u001b[0;31merror\u001b[0m: OpenCV(4.5.1) /tmp/pip-req-build-ms668fyv/opencv/modules/core/src/arithm.cpp:232: error: (-209:Sizes of input arguments do not match) The operation is neither 'array op array' (where arrays have the same size and type), nor 'array op scalar', nor 'scalar op array' in function 'binary_op'\n"
     ]
    }
   ],
   "source": [
    "warp_obj = Warping.Warping(src_landmarkGenerator,dest_landmarkGenerator)\n",
    "warp_obj.warp_image()\n",
    "# plt.imshow(warp_obj.list_warped_images[0])\n",
    "# plt.imshow(warp_obj.list_warped_images[1])\n",
    "\n",
    "\n",
    "cv2.imshow('src'+str(rd_idx), resize_img(warp_obj.this_bounding_rect_list[0]))\n",
    "cv2.imshow('obj'+str(rd_idx), resize_img(warp_obj.this_bounding_rect_list[1]))\n",
    "\n",
    "# cv2.imshow('src'+str(rd_idx), resize_img(warp_obj.list_warped_images[0]))\n",
    "# cv2.imshow('obj'+str(rd_idx), resize_img(warp_obj.list_warped_images[1]))\n",
    "cv2. moveWindow('src'+str(rd_idx), 40,30)\n",
    "\n",
    "cv2.waitKey(0) \n",
    "  \n",
    "# #closing all open windows \n",
    "cv2.destroyAllWindows() \n",
    "rd_idx+=1\n",
    "\n"
   ]
  },
  {
   "cell_type": "code",
   "execution_count": null,
   "id": "classical-supplier",
   "metadata": {},
   "outputs": [],
   "source": []
  },
  {
   "cell_type": "code",
   "execution_count": null,
   "id": "cutting-converter",
   "metadata": {},
   "outputs": [],
   "source": []
  }
 ],
 "metadata": {
  "kernelspec": {
   "display_name": "Python 3",
   "language": "python",
   "name": "python3"
  },
  "language_info": {
   "codemirror_mode": {
    "name": "ipython",
    "version": 3
   },
   "file_extension": ".py",
   "mimetype": "text/x-python",
   "name": "python",
   "nbconvert_exporter": "python",
   "pygments_lexer": "ipython3",
   "version": "3.8.3"
  }
 },
 "nbformat": 4,
 "nbformat_minor": 5
}
