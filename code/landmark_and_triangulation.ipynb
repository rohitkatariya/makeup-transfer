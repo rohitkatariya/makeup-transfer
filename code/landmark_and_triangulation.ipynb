{
 "cells": [
  {
   "cell_type": "code",
   "execution_count": 1,
   "id": "three-uncle",
   "metadata": {},
   "outputs": [],
   "source": [
    "import dlib\n",
    "import cv2\n",
    "import os\n",
    "from LandmarkGenerator import LandmarkGenerator\n",
    "import Triangulation\n",
    "import config\n",
    "import numpy as np\n",
    "\n",
    "from matplotlib import pyplot as plt\n",
    "from skimage.io import imread, imsave\n",
    "\n",
    "from imp import reload\n"
   ]
  },
  {
   "cell_type": "code",
   "execution_count": 2,
   "id": "afraid-nepal",
   "metadata": {},
   "outputs": [
    {
     "name": "stdout",
     "output_type": "stream",
     "text": [
      "[(0, 'black-silhouette-cartoon-front-face-man-with-hairstyle-J2TTMF.jpg'), (1, 'example.jpg'), (2, 'h.jpg'), (3, 'mom2.jpg'), (4, 'base.jpg'), (5, 'color_ja.jpg'), (6, 'openmouth.jpg'), (7, 'opm.png'), (8, 'on.jpg'), (9, 'c.jpg'), (10, 'dear-in-headlights-fright-face-woman-driving-car-wide-open-mouth-eyes-J6EFA0.jpg'), (11, 'om.jpg'), (12, 'man.jpg'), (13, 'm.jpg')]\n"
     ]
    }
   ],
   "source": [
    "list_images = os.listdir(config.input_dir)\n",
    "print(list(enumerate(list_images)))\n",
    "# list_images = [list_images[4]]"
   ]
  },
  {
   "cell_type": "code",
   "execution_count": 3,
   "id": "crazy-rendering",
   "metadata": {},
   "outputs": [],
   "source": [
    "list_images = [list_images[7]]"
   ]
  },
  {
   "cell_type": "code",
   "execution_count": 4,
   "id": "infinite-enemy",
   "metadata": {},
   "outputs": [],
   "source": [
    "predictor_path = './../data/shape_predictor_81_face_landmarks.dat'\n",
    "shape_predictor = dlib.shape_predictor(predictor_path)"
   ]
  },
  {
   "cell_type": "code",
   "execution_count": 5,
   "id": "artificial-oxygen",
   "metadata": {},
   "outputs": [
    {
     "data": {
      "text/plain": [
       "<module 'Triangulation' from '/home/rohit/Desktop/iit/digitalImageAnalysis/assignments/assignment2/code/Triangulation.py'>"
      ]
     },
     "execution_count": 5,
     "metadata": {},
     "output_type": "execute_result"
    }
   ],
   "source": [
    "reload(Triangulation)"
   ]
  },
  {
   "cell_type": "code",
   "execution_count": 6,
   "id": "imperial-student",
   "metadata": {},
   "outputs": [
    {
     "name": "stdout",
     "output_type": "stream",
     "text": [
      "opm.png\n"
     ]
    }
   ],
   "source": [
    "for filename_to_run in list_images:\n",
    "    print(filename_to_run)\n",
    "    input_image_path = config.input_dir+filename_to_run\n",
    "    my_landmarkGenerator = LandmarkGenerator(shape_predictor,input_image_path)\n",
    "    run_triangulation = False\n",
    "#     run_triangulation = True\n",
    "    if run_triangulation==False:\n",
    "        my_landmarkGenerator.save_mesh_img()\n",
    "    else:  # this code is for creating mesh again\n",
    "        my_triangulation = Triangulation.Triangulation(my_landmarkGenerator)\n",
    "        my_landmarkGenerator.save_mesh_img()\n",
    "        #copy opm \n",
    "#     print(len(my_triangulation.triangle_indices))\n",
    "    \n",
    "#     for t in my_triangulation.triangles:\n",
    "#         pt1 = (t[0], t[1])\n",
    "#         pt2 = (t[2], t[3])\n",
    "#         pt3 = (t[4], t[5])\n",
    "#         cv2.line(mesh_image, pt1, pt2, (0, 0, 255), 2)\n",
    "#         cv2.line(mesh_image, pt2, pt3, (0, 0, 255), 2)\n",
    "#         cv2.line(mesh_image, pt1, pt3, (0, 0, 255), 2)\n",
    "#     cv2.imwrite(my_landmarkGenerator.output_dir+'mesh_image.jpg', mesh_image)"
   ]
  },
  {
   "cell_type": "code",
   "execution_count": 10,
   "id": "graphic-commission",
   "metadata": {},
   "outputs": [
    {
     "data": {
      "text/plain": [
       "<module 'Warping' from '/home/rohit/Desktop/iit/digitalImageAnalysis/assignments/assignment2/code/Warping.py'>"
      ]
     },
     "execution_count": 10,
     "metadata": {},
     "output_type": "execute_result"
    }
   ],
   "source": [
    "import Warping\n",
    "reload(Warping)"
   ]
  },
  {
   "cell_type": "code",
   "execution_count": 11,
   "id": "large-significance",
   "metadata": {},
   "outputs": [],
   "source": [
    "rd_idx=0"
   ]
  },
  {
   "cell_type": "code",
   "execution_count": 13,
   "id": "finnish-collectible",
   "metadata": {},
   "outputs": [
    {
     "name": "stdout",
     "output_type": "stream",
     "text": [
      "[(1011, 524), (1105, 463), (1132, 474)]\n",
      "[(1105, 463), (1011, 524), (1006, 452)]\n",
      "[(1011, 524), (1001, 396), (1006, 452)]\n",
      "[(1216, 629), (1034, 664), (1021, 595)]\n",
      "[(1034, 664), (1216, 629), (1143, 693)]\n",
      "[(1209, 890), (1235, 790), (1272, 904)]\n",
      "[(1235, 790), (1209, 890), (1155, 843)]\n",
      "[(1021, 595), (1011, 524), (1132, 474)]\n",
      "[(1306, 682), (1307, 701), (1273, 690)]\n",
      "[(1307, 701), (1306, 682), (1350, 684)]\n",
      "[(1216, 629), (1239, 683), (1190, 685)]\n",
      "[(1239, 683), (1216, 629), (1246, 640)]\n",
      "[(1063, 730), (1034, 664), (1143, 693)]\n",
      "[(1277, 652), (1281, 614), (1306, 641)]\n",
      "[(1281, 614), (1277, 652), (1246, 640)]\n",
      "[(1107, 789), (1063, 730), (1143, 693)]\n",
      "[(1332, 629), (1350, 684), (1306, 682)]\n",
      "[(1350, 684), (1332, 629), (1480, 652)]\n",
      "[(1155, 843), (1107, 789), (1186, 759)]\n",
      "[(1216, 629), (1021, 595), (1132, 474)]\n",
      "[(1278, 563), (1332, 629), (1281, 614)]\n",
      "[(1332, 629), (1278, 563), (1369, 472)]\n",
      "[(1332, 888), (1272, 904), (1309, 789)]\n",
      "[(1378, 836), (1332, 888), (1352, 759)]\n",
      "[(1418, 779), (1378, 836), (1352, 759)]\n",
      "[(1168, 451), (1165, 475), (1134, 450)]\n",
      "[(1165, 475), (1168, 451), (1197, 472)]\n",
      "[(1456, 717), (1418, 779), (1388, 691)]\n",
      "[(1272, 462), (1229, 411), (1310, 411)]\n",
      "[(1229, 411), (1272, 462), (1197, 472)]\n",
      "[(1480, 652), (1456, 717), (1388, 691)]\n",
      "[(1278, 563), (1165, 475), (1197, 472)]\n",
      "[(1165, 475), (1278, 563), (1216, 629)]\n",
      "[(1492, 584), (1480, 652), (1332, 629)]\n",
      "[(1134, 450), (1086, 394), (1134, 387)]\n",
      "[(1086, 394), (1134, 450), (1105, 463)]\n",
      "[(1498, 515), (1492, 584), (1401, 471)]\n",
      "[(1086, 394), (1105, 463), (1051, 424)]\n",
      "[(1500, 447), (1498, 515), (1426, 459)]\n",
      "[(1278, 563), (1336, 471), (1369, 472)]\n",
      "[(1336, 471), (1278, 563), (1274, 513)]\n",
      "[(1051, 424), (1029, 297), (1086, 394)]\n",
      "[(1029, 297), (1051, 424), (1001, 396)]\n",
      "[(1197, 472), (1272, 462), (1274, 513)]\n",
      "[(1006, 452), (1051, 424), (1105, 463)]\n",
      "[(1051, 424), (1006, 452), (1001, 396)]\n",
      "[(1086, 394), (1029, 297), (1134, 387)]\n",
      "[(1134, 450), (1134, 387), (1183, 393)]\n",
      "[(1134, 387), (1195, 235), (1183, 393)]\n",
      "[(1195, 235), (1134, 387), (1121, 216)]\n",
      "[(1134, 387), (1029, 297), (1059, 244)]\n",
      "[(1310, 411), (1229, 411), (1280, 237)]\n",
      "[(1195, 235), (1229, 411), (1183, 393)]\n",
      "[(1229, 411), (1195, 235), (1280, 237)]\n",
      "[(1401, 471), (1492, 584), (1332, 629)]\n",
      "[(1183, 393), (1229, 411), (1168, 451)]\n",
      "[(1336, 471), (1310, 411), (1366, 449)]\n",
      "[(1310, 411), (1336, 471), (1272, 462)]\n",
      "[(1272, 462), (1336, 471), (1274, 513)]\n",
      "[(1369, 472), (1399, 446), (1401, 471)]\n",
      "[(1399, 446), (1369, 472), (1366, 449)]\n",
      "[(1310, 411), (1352, 391), (1366, 449)]\n",
      "[(1352, 391), (1310, 411), (1280, 237)]\n",
      "[(1121, 216), (1134, 387), (1059, 244)]\n",
      "[(1352, 391), (1280, 237), (1365, 232)]\n",
      "[(1352, 391), (1397, 383), (1366, 449)]\n",
      "[(1397, 383), (1352, 391), (1365, 232)]\n",
      "[(1397, 383), (1442, 387), (1399, 446)]\n",
      "[(1442, 387), (1397, 383), (1462, 259)]\n",
      "[(1462, 259), (1397, 383), (1439, 222)]\n",
      "[(1399, 446), (1442, 387), (1473, 415)]\n",
      "[(1500, 447), (1473, 415), (1501, 392)]\n",
      "[(1473, 415), (1500, 447), (1426, 459)]\n",
      "[(1473, 415), (1442, 387), (1495, 324)]\n",
      "[(1495, 324), (1442, 387), (1462, 259)]\n",
      "[(1216, 629), (1132, 474), (1165, 475)]\n",
      "[(1281, 614), (1332, 629), (1306, 641)]\n",
      "[(1216, 629), (1278, 563), (1281, 614)]\n",
      "[(1274, 513), (1278, 563), (1197, 472)]\n",
      "[(1273, 690), (1307, 701), (1273, 706)]\n",
      "[(1143, 693), (1216, 629), (1190, 685)]\n",
      "[(1239, 683), (1238, 701), (1190, 685)]\n",
      "[(1238, 701), (1239, 683), (1273, 690)]\n",
      "[(1309, 789), (1272, 904), (1272, 794)]\n",
      "[(1216, 629), (1281, 614), (1246, 640)]\n",
      "[(1277, 652), (1239, 683), (1246, 640)]\n",
      "[(1239, 683), (1277, 652), (1273, 690)]\n",
      "[(1306, 682), (1277, 652), (1306, 641)]\n",
      "[(1277, 652), (1306, 682), (1273, 690)]\n",
      "[(1306, 641), (1332, 629), (1306, 682)]\n",
      "[(1498, 515), (1401, 471), (1426, 459)]\n",
      "[(1134, 450), (1165, 475), (1132, 474)]\n",
      "[(1105, 463), (1134, 450), (1132, 474)]\n",
      "[(1134, 450), (1183, 393), (1168, 451)]\n",
      "[(1168, 451), (1229, 411), (1197, 472)]\n",
      "[(1401, 471), (1399, 446), (1426, 459)]\n",
      "[(1397, 383), (1399, 446), (1366, 449)]\n",
      "[(1336, 471), (1366, 449), (1369, 472)]\n",
      "[(1399, 446), (1473, 415), (1426, 459)]\n",
      "[(1401, 471), (1332, 629), (1369, 472)]\n",
      "[(1107, 789), (1143, 693), (1186, 759)]\n",
      "[(1143, 693), (1190, 685), (1159, 699)]\n",
      "[(1272, 758), (1307, 752), (1309, 789)]\n",
      "[(1307, 752), (1272, 758), (1273, 706)]\n",
      "[(1373, 698), (1307, 701), (1350, 684)]\n",
      "[(1307, 701), (1373, 698), (1307, 752)]\n",
      "[(1352, 759), (1332, 888), (1309, 789)]\n",
      "[(1350, 684), (1480, 652), (1388, 691)]\n",
      "[(1350, 684), (1388, 691), (1373, 698)]\n",
      "[(1388, 691), (1418, 779), (1352, 759)]\n",
      "[(1388, 691), (1352, 759), (1373, 698)]\n",
      "[(1307, 752), (1352, 759), (1309, 789)]\n",
      "[(1352, 759), (1307, 752), (1373, 698)]\n",
      "[(1272, 794), (1272, 904), (1235, 790)]\n",
      "[(1273, 706), (1237, 753), (1238, 701)]\n",
      "[(1237, 753), (1273, 706), (1272, 758)]\n",
      "[(1309, 789), (1272, 794), (1272, 758)]\n",
      "[(1237, 753), (1159, 699), (1238, 701)]\n",
      "[(1159, 699), (1237, 753), (1186, 759)]\n",
      "[(1272, 794), (1235, 790), (1272, 758)]\n",
      "[(1235, 790), (1155, 843), (1186, 759)]\n",
      "[(1238, 701), (1159, 699), (1190, 685)]\n",
      "[(1235, 790), (1186, 759), (1237, 753)]\n",
      "[(1186, 759), (1143, 693), (1159, 699)]\n",
      "[(1238, 701), (1273, 690), (1273, 706)]\n",
      "[(1273, 706), (1307, 701), (1307, 752)]\n",
      "[(1272, 758), (1235, 790), (1237, 753)]\n",
      "[(1121, 216), (1059, 244), (1074, 218)]\n",
      "[(1121, 216), (1280, 237), (1195, 235)]\n",
      "[(1280, 237), (1121, 216), (1392, 212)]\n",
      "[(1397, 383), (1365, 232), (1439, 222)]\n",
      "[(1439, 222), (1365, 232), (1392, 212)]\n",
      "[(1280, 237), (1392, 212), (1365, 232)]\n",
      "[(1473, 415), (1495, 324), (1501, 392)]\n"
     ]
    }
   ],
   "source": [
    "warp_obj = Warping.Warping(my_landmarkGenerator)\n",
    "warp_obj.warp_image()\n",
    "# plt.imshow(warp_obj.warped_image)\n",
    "cv2.imshow(str(rd_idx), warp_obj.warped_image)\n",
    "cv2.waitKey(0) \n",
    "  \n",
    "#closing all open windows \n",
    "cv2.destroyAllWindows() \n",
    "rd_idx+=1"
   ]
  },
  {
   "cell_type": "code",
   "execution_count": null,
   "id": "facial-tamil",
   "metadata": {},
   "outputs": [],
   "source": []
  },
  {
   "cell_type": "code",
   "execution_count": null,
   "id": "welcome-rapid",
   "metadata": {},
   "outputs": [],
   "source": []
  }
 ],
 "metadata": {
  "kernelspec": {
   "display_name": "Python 3",
   "language": "python",
   "name": "python3"
  },
  "language_info": {
   "codemirror_mode": {
    "name": "ipython",
    "version": 3
   },
   "file_extension": ".py",
   "mimetype": "text/x-python",
   "name": "python",
   "nbconvert_exporter": "python",
   "pygments_lexer": "ipython3",
   "version": "3.8.3"
  }
 },
 "nbformat": 4,
 "nbformat_minor": 5
}
