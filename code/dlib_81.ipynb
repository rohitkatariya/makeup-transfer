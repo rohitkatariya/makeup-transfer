{
 "cells": [
  {
   "cell_type": "code",
   "execution_count": 1,
   "id": "compressed-compensation",
   "metadata": {},
   "outputs": [],
   "source": [
    "import dlib\n",
    "import cv2\n",
    "import os\n",
    "from LandmarkGenerator import LandmarkGenerator\n",
    "import Triangulation\n",
    "import config\n",
    "import numpy as np\n",
    "\n",
    "from imp import reload"
   ]
  },
  {
   "cell_type": "code",
   "execution_count": 2,
   "id": "killing-catalyst",
   "metadata": {},
   "outputs": [
    {
     "name": "stdout",
     "output_type": "stream",
     "text": [
      "[(0, 'example.jpg'), (1, 'base.jpg'), (2, 'color_ja.jpg'), (3, 'openmouth.jpg'), (4, 'opm.png'), (5, 'on.jpg'), (6, 'om.jpg'), (7, 'man.jpg')]\n"
     ]
    }
   ],
   "source": [
    "list_images = os.listdir(config.input_dir)\n",
    "print(list(enumerate(list_images)))\n",
    "# list_images = [list_images[4]]"
   ]
  },
  {
   "cell_type": "code",
   "execution_count": 3,
   "id": "accepted-trouble",
   "metadata": {},
   "outputs": [],
   "source": [
    "predictor_path = './../data/shape_predictor_81_face_landmarks.dat'\n",
    "shape_predictor = dlib.shape_predictor(predictor_path)"
   ]
  },
  {
   "cell_type": "code",
   "execution_count": 4,
   "id": "exterior-calculator",
   "metadata": {},
   "outputs": [
    {
     "data": {
      "text/plain": [
       "<module 'Triangulation' from '/home/rohit/Desktop/iit/digitalImageAnalysis/assignments/assignment2/code/Triangulation.py'>"
      ]
     },
     "execution_count": 4,
     "metadata": {},
     "output_type": "execute_result"
    }
   ],
   "source": [
    "reload(Triangulation)"
   ]
  },
  {
   "cell_type": "code",
   "execution_count": 5,
   "id": "attractive-pension",
   "metadata": {},
   "outputs": [
    {
     "name": "stdout",
     "output_type": "stream",
     "text": [
      "example.jpg\n",
      "base.jpg\n",
      "color_ja.jpg\n",
      "openmouth.jpg\n",
      "opm.png\n",
      "on.jpg\n",
      "om.jpg\n",
      "man.jpg\n"
     ]
    }
   ],
   "source": [
    "for filename_to_run in list_images:\n",
    "    print(filename_to_run)\n",
    "    input_image_path = config.input_dir+filename_to_run\n",
    "    my_landmarkGenerator = LandmarkGenerator(shape_predictor,input_image_path)\n",
    "    run_triangulation = False\n",
    "#     run_triangulation = True\n",
    "    if run_triangulation:\n",
    "        my_landmarkGenerator.save_mesh_img()\n",
    "    else:  # this code is for creating mesh again\n",
    "        my_triangulation = Triangulation.Triangulation(my_landmarkGenerator)\n",
    "        #copy opm \n",
    "#     print(len(my_triangulation.triangle_indices))\n",
    "    \n",
    "#     for t in my_triangulation.triangles:\n",
    "#         pt1 = (t[0], t[1])\n",
    "#         pt2 = (t[2], t[3])\n",
    "#         pt3 = (t[4], t[5])\n",
    "#         cv2.line(mesh_image, pt1, pt2, (0, 0, 255), 2)\n",
    "#         cv2.line(mesh_image, pt2, pt3, (0, 0, 255), 2)\n",
    "#         cv2.line(mesh_image, pt1, pt3, (0, 0, 255), 2)\n",
    "#     cv2.imwrite(my_landmarkGenerator.output_dir+'mesh_image.jpg', mesh_image)"
   ]
  },
  {
   "cell_type": "code",
   "execution_count": 6,
   "id": "dutch-parliament",
   "metadata": {},
   "outputs": [
    {
     "data": {
      "text/plain": [
       "81"
      ]
     },
     "execution_count": 6,
     "metadata": {},
     "output_type": "execute_result"
    }
   ],
   "source": [
    "len(my_landmarkGenerator.landmarks)"
   ]
  },
  {
   "cell_type": "code",
   "execution_count": 7,
   "id": "minute-sapphire",
   "metadata": {},
   "outputs": [
    {
     "data": {
      "text/plain": [
       "[([36, 17, 18], 0),\n",
       " ([17, 36, 0], 0),\n",
       " ([58, 8, 7], 0),\n",
       " ([8, 58, 57], 0),\n",
       " ([1, 0, 36], 0),\n",
       " ([62, 58, 61], 1),\n",
       " ([58, 62, 57], 1),\n",
       " ([2, 1, 41], 0),\n",
       " ([53, 35, 54], 0),\n",
       " ([35, 53, 52], 0),\n",
       " ([3, 2, 31], 0),\n",
       " ([49, 32, 50], 0),\n",
       " ([32, 49, 31], 0),\n",
       " ([4, 3, 48], 0),\n",
       " ([3, 31, 48], 0),\n",
       " ([5, 4, 48], 0),\n",
       " ([35, 30, 29], 0),\n",
       " ([30, 35, 34], 0),\n",
       " ([6, 5, 59], 0),\n",
       " ([31, 29, 30], 0),\n",
       " ([29, 31, 40], 0),\n",
       " ([7, 6, 58], 0),\n",
       " ([46, 14, 35], 0),\n",
       " ([14, 46, 15], 0),\n",
       " ([9, 8, 56], 0),\n",
       " ([10, 9, 56], 0),\n",
       " ([31, 41, 40], 0),\n",
       " ([41, 31, 2], 0),\n",
       " ([11, 10, 55], 0),\n",
       " ([21, 39, 38], 0),\n",
       " ([39, 21, 27], 0),\n",
       " ([12, 11, 54], 0),\n",
       " ([40, 37, 38], 2),\n",
       " ([37, 40, 41], 2),\n",
       " ([13, 12, 54], 0),\n",
       " ([36, 18, 37], 0),\n",
       " ([14, 13, 35], 0),\n",
       " ([37, 18, 19], 0),\n",
       " ([16, 15, 26], 0),\n",
       " ([43, 23, 44], 0),\n",
       " ([23, 43, 22], 0),\n",
       " ([75, 18, 77], 0),\n",
       " ([18, 75, 19], 0),\n",
       " ([29, 40, 39], 0),\n",
       " ([17, 0, 77], 0),\n",
       " ([77, 18, 17], 0),\n",
       " ([42, 29, 28], 0),\n",
       " ([29, 42, 47], 0),\n",
       " ([19, 75, 76], 0),\n",
       " ([20, 70, 21], 0),\n",
       " ([70, 20, 19], 0),\n",
       " ([19, 20, 37], 0),\n",
       " ([21, 22, 27], 0),\n",
       " ([22, 21, 71], 0),\n",
       " ([29, 47, 35], 0),\n",
       " ([20, 21, 38], 0),\n",
       " ([42, 27, 22], 0),\n",
       " ([27, 42, 28], 0),\n",
       " ([42, 22, 43], 0),\n",
       " ([46, 44, 45], 2),\n",
       " ([44, 46, 47], 2),\n",
       " ([21, 70, 71], 0),\n",
       " ([19, 69, 70], 0),\n",
       " ([69, 19, 76], 0),\n",
       " ([23, 22, 71], 0),\n",
       " ([44, 24, 25], 0),\n",
       " ([24, 44, 23], 0),\n",
       " ([24, 23, 80], 0),\n",
       " ([23, 71, 80], 0),\n",
       " ([25, 74, 26], 0),\n",
       " ([74, 25, 79], 0),\n",
       " ([25, 24, 79], 0),\n",
       " ([79, 24, 80], 0),\n",
       " ([26, 15, 45], 0),\n",
       " ([25, 26, 45], 0),\n",
       " ([16, 26, 78], 0),\n",
       " ([41, 1, 36], 0),\n",
       " ([27, 28, 39], 0),\n",
       " ([35, 13, 54], 0),\n",
       " ([48, 31, 49], 0),\n",
       " ([28, 29, 39], 0),\n",
       " ([52, 33, 34], 0),\n",
       " ([33, 52, 51], 0),\n",
       " ([61, 59, 49], 1),\n",
       " ([59, 61, 58], 1),\n",
       " ([33, 51, 50], 0),\n",
       " ([31, 30, 32], 0),\n",
       " ([8, 57, 56], 0),\n",
       " ([32, 30, 33], 0),\n",
       " ([63, 53, 55], 1),\n",
       " ([53, 63, 65], 1),\n",
       " ([32, 33, 50], 0),\n",
       " ([33, 30, 34], 0),\n",
       " ([34, 35, 52], 0),\n",
       " ([40, 38, 39], 2),\n",
       " ([20, 38, 37], 0),\n",
       " ([36, 37, 41], 2),\n",
       " ([44, 47, 43], 2),\n",
       " ([44, 25, 45], 0),\n",
       " ([42, 43, 47], 2),\n",
       " ([15, 46, 45], 0),\n",
       " ([46, 35, 47], 0),\n",
       " ([5, 48, 59], 0),\n",
       " ([48, 49, 60], 1),\n",
       " ([56, 62, 63], 1),\n",
       " ([62, 56, 57], 1),\n",
       " ([49, 50, 67], 1),\n",
       " ([50, 51, 67], 1),\n",
       " ([55, 10, 56], 0),\n",
       " ([51, 52, 65], 1),\n",
       " ([55, 54, 11], 0),\n",
       " ([54, 55, 64], 1),\n",
       " ([52, 53, 65], 1),\n",
       " ([53, 54, 64], 1),\n",
       " ([55, 53, 64], 1),\n",
       " ([63, 55, 56], 1),\n",
       " ([66, 63, 62], 2),\n",
       " ([63, 66, 65], 2),\n",
       " ([61, 49, 67], 1),\n",
       " ([58, 6, 59], 0),\n",
       " ([49, 59, 60], 1),\n",
       " ([59, 48, 60], 1),\n",
       " ([66, 67, 51], 1),\n",
       " ([67, 66, 61], 2),\n",
       " ([62, 61, 66], 2),\n",
       " ([51, 65, 66], 1),\n",
       " ([69, 71, 70], 0),\n",
       " ([71, 69, 72], 0),\n",
       " ([68, 69, 76], 0),\n",
       " ([79, 80, 73], 0),\n",
       " ([73, 80, 72], 0),\n",
       " ([71, 72, 80], 0),\n",
       " ([26, 74, 78], 0)]"
      ]
     },
     "execution_count": 7,
     "metadata": {},
     "output_type": "execute_result"
    }
   ],
   "source": [
    "my_triangulation.triangle_indices\n"
   ]
  },
  {
   "cell_type": "code",
   "execution_count": null,
   "id": "sensitive-nudist",
   "metadata": {},
   "outputs": [],
   "source": []
  },
  {
   "cell_type": "code",
   "execution_count": null,
   "id": "upset-cradle",
   "metadata": {},
   "outputs": [],
   "source": []
  },
  {
   "cell_type": "code",
   "execution_count": null,
   "id": "seven-maintenance",
   "metadata": {},
   "outputs": [],
   "source": []
  }
 ],
 "metadata": {
  "kernelspec": {
   "display_name": "Python 3",
   "language": "python",
   "name": "python3"
  },
  "language_info": {
   "codemirror_mode": {
    "name": "ipython",
    "version": 3
   },
   "file_extension": ".py",
   "mimetype": "text/x-python",
   "name": "python",
   "nbconvert_exporter": "python",
   "pygments_lexer": "ipython3",
   "version": "3.8.3"
  }
 },
 "nbformat": 4,
 "nbformat_minor": 5
}
