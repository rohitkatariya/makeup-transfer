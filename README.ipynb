{
 "cells": [
  {
   "cell_type": "markdown",
   "id": "behavioral-mozambique",
   "metadata": {},
   "source": [
    "# Digital Makeup Transfer\n",
    "Digital Makeup Transfer based on paper by Dong Guo and Terence Sim\n",
    "\n",
    "### Procedure Followed:\n",
    "- Landmark creation\n",
    "  - Facial landmark detection\n",
    "      - We used a python library function dlib to denote the pixel locations of 81 control points of the face which cover all the face control points. These include eyebrows, eyes, nose, lips and boundary of face. \n",
    "  - Landmark point division\n",
    "      - Here we segmented the landmark points to assign them the region that they represent.\n",
    "  - Create image masks using convex hull\n",
    "      - We do this to display the different regions of the image.\n",
    "  \n",
    "  <img src=\"data/output/base/mask_frame.jpg\" width = 300>  \n",
    "  \n",
    "- Triangulation / mesh creation\n",
    "  - Compute triangles using cv2.Subdiv2D\n",
    "  - Convert triangle points to landmark indices so that this mesh can be universally used in different images\n",
    "  \n",
    "  <img src=\"data/output/base/mesh_image.jpg\" width = 300> <img src=\"data/output/example/mesh_image.jpg\" width = 300>\n",
    "  \n",
    "- Assign every triangle the region it belongs to.\n",
    "  - Each category is further divided into 3 regions on which different transfer method is to be used.\n",
    "  - Apply affine transformation to resize and reorient corresponding triangles to get a warped image. \n",
    "  - Combining different triangles to get the transformed image.\n",
    "      - created masks for combining different triangles. Here we faced a lot of issues because a lot of mesh lines were showing up. So we developed an innovative way to mask away the common boundary that was getting added multiple times when it is shared among different triangles.<br>\n",
    "      <img src=\"data/output/base/transfered_image.jpg\" width = 300>  \n",
    "  - Applying Transfers\n",
    "      - We divided the image into 3 regions: \n",
    "          - C1 - Skin, eyebrows,nose [we call this \"others\" region]\n",
    "          - C2 lips \n",
    "          - C3 eyes, mouth cavity \n",
    "      - We apply different transfers to different regions\n",
    "      - Skin transfer\n",
    "          - Here we divide the images into 3 layer components.\n",
    "          - we first convert to LAB color space\n",
    "          - Detail layer, structure layer, color layer\n",
    "          - structure layer is obtained by applying Bilateral filtering\n",
    "              - here we get try getting gradient with laplacian and sobel operators and we try to add it to smoothened structure layer. I.e we add edges to the image to add highlights to the resultant structure layer. \n",
    "          - Detail layer is got by subtracting structure layer from lightness component\n",
    "              - Skin detail transfer - here we use a weighted sum of detailed layer from both example and the subject image\n",
    "          - Color layer is the a,b component of LAB layer\n",
    "              - Color transfer - where we apply alpha blending of color layers.\n",
    "      - Lip tansfers\n",
    "          - Here we convert the image into LAB color space.\n",
    "          - we apply histogram equaliztion to both subject and example image.\n",
    "          - Now for every point p in the subject image's lip region we find the closest lip point in the transfered image using the following similarity function\n",
    "              {G(|q−p|)G(|E(q)− I(p)|)} where G is the gaussian function.\n",
    "          - once we get the closest point we copy the color and lightness values to the result image.\n",
    "      - in the eyes mouth cavity and background region no transfers are applied and we use these as it is.\n",
    "\n",
    "\n",
    "<img src=\"data/output/base/combined_layer.jpg\" width=300>        \n",
    "\n",
    "<img src=\"data/output/h/combined_layer.jpg\" width=300> \n",
    "\n",
    "<img src=\"data/output/m/combined_layer.jpg\" width=300> \n",
    "      \n",
    "- X-DOG \n",
    "    - In this part we apply xdog with different trhesholds to get multiple images. \n",
    "    - Once we get this stylized image, we input this into above pipeline to get makeup transfer on this image.  \n",
    "\n",
    "<img src=\"data/output/XDOG_image/combined_layer.jpg\" width = 300>              \n",
    "      "
   ]
  },
  {
   "cell_type": "markdown",
   "id": "engaged-mailman",
   "metadata": {},
   "source": [
    "# References\n",
    "- Digital Makeup Transfer based on paper by Dong Guo and Terence Sim\n",
    "- dlib predictor downloaded from https://github.com/codeniko/shape_predictor_81_face_landmarks"
   ]
  },
  {
   "cell_type": "code",
   "execution_count": null,
   "id": "nervous-victor",
   "metadata": {},
   "outputs": [],
   "source": []
  }
 ],
 "metadata": {
  "kernelspec": {
   "display_name": "Python 3",
   "language": "python",
   "name": "python3"
  },
  "language_info": {
   "codemirror_mode": {
    "name": "ipython",
    "version": 3
   },
   "file_extension": ".py",
   "mimetype": "text/x-python",
   "name": "python",
   "nbconvert_exporter": "python",
   "pygments_lexer": "ipython3",
   "version": "3.8.3"
  }
 },
 "nbformat": 4,
 "nbformat_minor": 5
}
